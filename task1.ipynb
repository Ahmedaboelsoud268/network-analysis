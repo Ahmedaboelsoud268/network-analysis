{
 "cells": [
  {
   "cell_type": "code",
   "execution_count": 1,
   "id": "40509c38",
   "metadata": {},
   "outputs": [
    {
     "name": "stdout",
     "output_type": "stream",
     "text": [
      "hello world\n"
     ]
    }
   ],
   "source": [
    "print (\"hello world\")"
   ]
  },
  {
   "cell_type": "code",
   "execution_count": 2,
   "id": "b7cf15f1",
   "metadata": {},
   "outputs": [
    {
     "name": "stdout",
     "output_type": "stream",
     "text": [
      "hi\n",
      "26\n"
     ]
    }
   ],
   "source": [
    "str1=\"hi\"\n",
    "int1=26\n",
    "print(str1)\n",
    "print(int1)"
   ]
  },
  {
   "cell_type": "code",
   "execution_count": 6,
   "id": "82331c88",
   "metadata": {},
   "outputs": [
    {
     "name": "stdout",
     "output_type": "stream",
     "text": [
      "good\n"
     ]
    }
   ],
   "source": [
    "#condition\n",
    "gba=2.8\n",
    "if gba>3.7:\n",
    "    print(\"excellent\")\n",
    "elif gba <3.7 and gba>=3.0  :\n",
    "    print(\"very good\")\n",
    "elif gba<3.0 and gba>=2.7:\n",
    "    print(\"good\")\n",
    "else :\n",
    "    print(\"acceptable\")\n"
   ]
  },
  {
   "cell_type": "code",
   "execution_count": 10,
   "id": "31e4a41f",
   "metadata": {},
   "outputs": [
    {
     "name": "stdout",
     "output_type": "stream",
     "text": [
      "b\n",
      "d\n",
      "['b', 'c']\n",
      "['a', 'b', 'c', 'd', 'e']\n",
      "['a', 'b', 'c', 'd']\n"
     ]
    }
   ],
   "source": [
    "#ordered\n",
    "word=[\"a\",\"b\",\"c\",\"d\"]\n",
    "print(word[1])\n",
    "#list item\n",
    "print(word[-1])\n",
    "#range\n",
    "print(word[1:3])\n",
    "word.insert(4, 'e')\n",
    "print(word)\n",
    "del word[4]\n",
    "print(word)\n",
    "\n"
   ]
  },
  {
   "cell_type": "code",
   "execution_count": 17,
   "id": "70e295c4",
   "metadata": {},
   "outputs": [
    {
     "name": "stdout",
     "output_type": "stream",
     "text": [
      "i am ahmed\n",
      "i am saad\n",
      "i am ali\n",
      "i am osama\n"
     ]
    }
   ],
   "source": [
    "#loops\n",
    "names = ['ahmed', 'saad', 'ali', 'osama']\n",
    "for name in names:\n",
    "    print('i am ' + name )"
   ]
  },
  {
   "cell_type": "code",
   "execution_count": 18,
   "id": "716e456b",
   "metadata": {},
   "outputs": [
    {
     "data": {
      "text/plain": [
       "[('ahmed', 'ahmed'),\n",
       " ('ahmed', 'saad'),\n",
       " ('ahmed', 'ali'),\n",
       " ('ahmed', 'osama'),\n",
       " ('saad', 'ahmed'),\n",
       " ('saad', 'saad'),\n",
       " ('saad', 'ali'),\n",
       " ('saad', 'osama'),\n",
       " ('ali', 'ahmed'),\n",
       " ('ali', 'saad'),\n",
       " ('ali', 'ali'),\n",
       " ('ali', 'osama'),\n",
       " ('osama', 'ahmed'),\n",
       " ('osama', 'saad'),\n",
       " ('osama', 'ali'),\n",
       " ('osama', 'osama')]"
      ]
     },
     "execution_count": 18,
     "metadata": {},
     "output_type": "execute_result"
    }
   ],
   "source": [
    "names = ['ahmed', 'saad', 'ali', 'osama']\n",
    "student = []\n",
    "for name_0 in names:\n",
    "    for name_1 in names:\n",
    "        student.append(\n",
    "            (name_0, name_1)\n",
    "        )\n",
    "\n",
    "student"
   ]
  },
  {
   "cell_type": "code",
   "execution_count": 24,
   "id": "7450443b",
   "metadata": {},
   "outputs": [
    {
     "data": {
      "text/plain": [
       "[('ahmed', 'saad'),\n",
       " ('ahmed', 'ali'),\n",
       " ('ahmed', 'osama'),\n",
       " ('saad', 'ahmed'),\n",
       " ('saad', 'ali'),\n",
       " ('saad', 'osama'),\n",
       " ('ali', 'ahmed'),\n",
       " ('ali', 'saad'),\n",
       " ('ali', 'osama'),\n",
       " ('osama', 'ahmed'),\n",
       " ('osama', 'saad'),\n",
       " ('osama', 'ali')]"
      ]
     },
     "execution_count": 24,
     "metadata": {},
     "output_type": "execute_result"
    }
   ],
   "source": [
    "#nested loops\n",
    "names = ['ahmed', 'saad', 'ali', 'osama']\n",
    "student = []\n",
    "for name_0 in names:\n",
    "    for name_1 in names:\n",
    "        if name_0 != name_1:\n",
    "        \n",
    "        student.append((name_0, name_1))\n",
    "            \n",
    "        \n",
    "\n",
    "student"
   ]
  },
  {
   "cell_type": "code",
   "execution_count": 37,
   "id": "195161f4",
   "metadata": {},
   "outputs": [
    {
     "name": "stdout",
     "output_type": "stream",
     "text": [
      "{'ahmed': 'A', 'ali': 'B+', 'mahmoud': 'c'}\n",
      "A\n"
     ]
    },
    {
     "data": {
      "text/plain": [
       "False"
      ]
     },
     "execution_count": 37,
     "metadata": {},
     "output_type": "execute_result"
    }
   ],
   "source": [
    "#dictionary\n",
    "names_grade = {'ahmed': 'A',\n",
    "               'ali': 'B+',\n",
    "               'mahmoud': 'c',}\n",
    "print(names_grade)\n",
    "print(names_grade['ahmed'])\n",
    "#check if the key is in dictionary\n",
    "'osama' in names_grade"
   ]
  },
  {
   "cell_type": "code",
   "execution_count": null,
   "id": "14c65da5",
   "metadata": {},
   "outputs": [],
   "source": []
  },
  {
   "cell_type": "code",
   "execution_count": null,
   "id": "1472946d",
   "metadata": {},
   "outputs": [],
   "source": []
  }
 ],
 "metadata": {
  "kernelspec": {
   "display_name": "Python 3 (ipykernel)",
   "language": "python",
   "name": "python3"
  },
  "language_info": {
   "codemirror_mode": {
    "name": "ipython",
    "version": 3
   },
   "file_extension": ".py",
   "mimetype": "text/x-python",
   "name": "python",
   "nbconvert_exporter": "python",
   "pygments_lexer": "ipython3",
   "version": "3.9.7"
  }
 },
 "nbformat": 4,
 "nbformat_minor": 5
}
